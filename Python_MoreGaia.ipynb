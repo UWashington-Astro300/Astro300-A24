{
 "cells": [
  {
   "cell_type": "markdown",
   "id": "600a35e5-140a-46ef-9864-aafb9c065646",
   "metadata": {},
   "source": [
    "# Even more Gaia data"
   ]
  },
  {
   "cell_type": "markdown",
   "id": "0d0bcbeb-1f80-43a3-b595-ebe3db9b961a",
   "metadata": {},
   "source": [
    "The Gaia dataset we are using `gaiadr3.gaia_source_lite` is just one of the [many, many datasets](https://gaia.aip.de/metadata/gaiadr3/) the Gaia project has produced.\n",
    "\n",
    "- All of the dataset can be accessed in the same way queried the `gaiadr3.gaia_source_lite` dataset\n",
    "- For example, the `gaiadr3.sso_reflectance_spectrum` dataset contains reflectance spectra of asteroids"
   ]
  },
  {
   "cell_type": "code",
   "execution_count": null,
   "id": "5aef951c-0f1c-46cf-874a-b9cc59cb8113",
   "metadata": {},
   "outputs": [],
   "source": [
    "import numpy as np\n",
    "from astropy.table import QTable\n",
    "from astroquery.gaia import Gaia\n",
    "\n",
    "import matplotlib.pyplot as plt"
   ]
  },
  {
   "cell_type": "code",
   "execution_count": null,
   "id": "03961c02-26ba-446e-8460-913a5c6a3453",
   "metadata": {},
   "outputs": [],
   "source": [
    "my_query = \"\"\"\n",
    "SELECT TOP 16\n",
    "denomination, reflectance_spectrum, wavelength\n",
    "FROM gaiadr3.sso_reflectance_spectrum\n",
    "WHERE denomination = 'vesta'\n",
    "\"\"\""
   ]
  },
  {
   "cell_type": "code",
   "execution_count": null,
   "id": "4390425f-c607-4203-9751-6b6dc6827a4d",
   "metadata": {},
   "outputs": [],
   "source": [
    "print(my_query)"
   ]
  },
  {
   "cell_type": "code",
   "execution_count": null,
   "id": "2b8facc0-3082-40a2-bdf6-be5e3010458b",
   "metadata": {},
   "outputs": [],
   "source": [
    "my_job_query = Gaia.launch_job(my_query)"
   ]
  },
  {
   "cell_type": "code",
   "execution_count": null,
   "id": "461317fc-02a3-4149-80ec-d17d4950039e",
   "metadata": {},
   "outputs": [],
   "source": [
    "print(my_job_query)"
   ]
  },
  {
   "cell_type": "code",
   "execution_count": null,
   "id": "90796d37-a382-4ac1-88db-152270a9a02d",
   "metadata": {},
   "outputs": [],
   "source": [
    "vesta_spectra = my_job_query.get_results()"
   ]
  },
  {
   "cell_type": "code",
   "execution_count": null,
   "id": "f459ac39-72bf-4470-b823-a1cefe27b828",
   "metadata": {},
   "outputs": [],
   "source": [
    "vesta_spectra"
   ]
  },
  {
   "cell_type": "code",
   "execution_count": null,
   "id": "c58687b9-e194-4b17-9529-39dbb3269cb4",
   "metadata": {},
   "outputs": [],
   "source": [
    "my_x = vesta_spectra['wavelength']\n",
    "my_y = vesta_spectra['reflectance_spectrum']"
   ]
  },
  {
   "cell_type": "code",
   "execution_count": null,
   "id": "56e0abb1-8968-4c83-bcb9-fe8b803c2218",
   "metadata": {},
   "outputs": [],
   "source": [
    "fig, ax = plt.subplots(\n",
    "    figsize = (8, 5), \n",
    "    constrained_layout = True\n",
    ")\n",
    "\n",
    "#ax.set_xlim(0.0, 6000)\n",
    "#ax.set_ylim(-1100, 1100)\n",
    "\n",
    "ax.set_xlabel(f'Wavelength ({my_x.unit})',\n",
    "              fontsize = 18)\n",
    "\n",
    "ax.set_ylabel(f'Normalized Albedo',\n",
    "              fontsize = 18)\n",
    "\n",
    "ax.plot(my_x, my_y,\n",
    "        color = 'MidnightBlue',\n",
    "        marker = 'o',\n",
    "        linestyle = '--',\n",
    "        label = 'Vesta'),\n",
    "\n",
    "ax.legend(loc=0, shadow=True);"
   ]
  },
  {
   "cell_type": "code",
   "execution_count": null,
   "id": "880bc911-ae49-47c6-8745-27145879bd51",
   "metadata": {},
   "outputs": [],
   "source": [
    "my_query = \"\"\"\n",
    "SELECT TOP 16\n",
    "denomination, reflectance_spectrum, wavelength\n",
    "FROM gaiadr3.sso_reflectance_spectrum\n",
    "WHERE denomination = 'eros'\n",
    "\"\"\""
   ]
  },
  {
   "cell_type": "code",
   "execution_count": null,
   "id": "0f4d5935-baa1-47a0-9e9a-78f7440d210a",
   "metadata": {},
   "outputs": [],
   "source": [
    "my_job_query = Gaia.launch_job(my_query)"
   ]
  },
  {
   "cell_type": "code",
   "execution_count": null,
   "id": "60f4ec3c-e232-47b1-8d48-81e7a6025d90",
   "metadata": {},
   "outputs": [],
   "source": [
    "eros_spectra = my_job_query.get_results()"
   ]
  },
  {
   "cell_type": "code",
   "execution_count": null,
   "id": "f06f99fb-8132-4bfb-a7b3-fbba9d6a8f7e",
   "metadata": {},
   "outputs": [],
   "source": [
    "my_query = \"\"\"\n",
    "SELECT TOP 16\n",
    "denomination, reflectance_spectrum, wavelength\n",
    "FROM gaiadr3.sso_reflectance_spectrum\n",
    "WHERE denomination = 'lutetia'\n",
    "\"\"\""
   ]
  },
  {
   "cell_type": "code",
   "execution_count": null,
   "id": "9f5f8b23-f107-43c2-870d-cae5fb5e36dd",
   "metadata": {},
   "outputs": [],
   "source": [
    "my_job_query = Gaia.launch_job(my_query)"
   ]
  },
  {
   "cell_type": "code",
   "execution_count": null,
   "id": "d4970bcb-da7b-4cd5-a468-bb0b38b98ac3",
   "metadata": {},
   "outputs": [],
   "source": [
    "lutetia_spectra =  my_job_query.get_results()"
   ]
  },
  {
   "cell_type": "code",
   "execution_count": null,
   "id": "de339c76-06f8-4172-b9ee-e722a2df32df",
   "metadata": {},
   "outputs": [],
   "source": [
    "fig, ax = plt.subplots(\n",
    "    figsize = (8, 5), \n",
    "    constrained_layout = True\n",
    ")\n",
    "\n",
    "#ax.set_xlim(0.0, 6000)\n",
    "#ax.set_ylim(-1100, 1100)\n",
    "\n",
    "ax.set_xlabel(f'Wavelength ({my_x.unit})',\n",
    "              fontsize = 18)\n",
    "\n",
    "ax.set_ylabel(f'Normalized Albedo',\n",
    "              fontsize = 18)\n",
    "\n",
    "ax.plot(my_x, my_y,\n",
    "        color = 'MidnightBlue',\n",
    "        marker = 'o',\n",
    "        linestyle = '--',\n",
    "        label = 'Vesta (V-Type)'),\n",
    "\n",
    "ax.plot(lutetia_spectra['wavelength'], lutetia_spectra['reflectance_spectrum'],\n",
    "        color = 'Green',\n",
    "        marker = 'o',\n",
    "        linestyle = '--',\n",
    "        label = 'Lutetia (M-Type)'),\n",
    "\n",
    "ax.plot(eros_spectra['wavelength'], eros_spectra['reflectance_spectrum'],\n",
    "        color = 'MediumOrchid',\n",
    "        marker = 'D',\n",
    "        linestyle = '-',\n",
    "        label = 'Eros (S-Type)'),\n",
    "\n",
    "ax.legend(loc=0, shadow=True);"
   ]
  },
  {
   "cell_type": "markdown",
   "id": "271d385f-a438-4e8d-8169-fcd8d3cc48f4",
   "metadata": {},
   "source": [
    "---\n",
    "\n",
    "## Importing New Packages\n",
    "\n",
    "Our JuypterHub installation comes with 100's of packages. But not all of them. If you want to use a package that is not installed, you can install it yourself.\n",
    "\n",
    "[poliastro](https://docs.poliastro.space/en/latest/index.html) is a Python library for interactive Astrodynamics and Orbital Mechanics. It is a very cool library for doing spacecraft mission planning or plotting the orbits of asteroids.\n",
    "\n",
    "Poliastro is not installed in our JupyterHub."
   ]
  },
  {
   "cell_type": "code",
   "execution_count": null,
   "id": "22adf883-4fe3-4263-ae44-576b6983e883",
   "metadata": {},
   "outputs": [],
   "source": [
    "import poliastro"
   ]
  },
  {
   "cell_type": "markdown",
   "id": "51b259b7-9e02-4c11-8910-0a736402709a",
   "metadata": {},
   "source": [
    "#### We can install poliastro using: `!pip install poliastro`"
   ]
  },
  {
   "cell_type": "code",
   "execution_count": null,
   "id": "9502b42f-0e47-4c1f-bdbe-e7af0464c1bd",
   "metadata": {},
   "outputs": [],
   "source": [
    "!pip install poliastro"
   ]
  },
  {
   "cell_type": "code",
   "execution_count": null,
   "id": "35f6924a-d7ca-4921-8d40-4e449c645864",
   "metadata": {},
   "outputs": [],
   "source": [
    "from astropy import time\n",
    "\n",
    "from poliastro.bodies import Earth\n",
    "from poliastro.frames import Planes\n",
    "from poliastro.plotting import StaticOrbitPlotter\n",
    "from poliastro.twobody.orbit import Orbit"
   ]
  },
  {
   "cell_type": "code",
   "execution_count": null,
   "id": "e18535e7-be4b-46b4-acae-01582a8d0ce2",
   "metadata": {},
   "outputs": [],
   "source": [
    "eros = Orbit.from_sbdb(\"Eros\")\n",
    "vesta = Orbit.from_sbdb(\"Vesta\")\n",
    "lutetia = Orbit.from_sbdb(\"Lutetia\")"
   ]
  },
  {
   "cell_type": "code",
   "execution_count": null,
   "id": "ac43dc00-5d45-4674-9733-7cf37c213273",
   "metadata": {},
   "outputs": [],
   "source": [
    "frame = StaticOrbitPlotter(plane=Planes.EARTH_ECLIPTIC)\n",
    "frame.plot(eros, label=\"Eros\", color = 'blue')\n",
    "frame.plot(lutetia, label=\"Lutetia\", color = 'green')\n",
    "frame.plot(vesta, label=\"Vesta\", color = 'red');"
   ]
  },
  {
   "cell_type": "code",
   "execution_count": null,
   "id": "c6c11c23-a9a5-4b9a-bfab-91009b303862",
   "metadata": {},
   "outputs": [],
   "source": []
  }
 ],
 "metadata": {
  "kernelspec": {
   "display_name": "Python 3 (ipykernel)",
   "language": "python",
   "name": "python3"
  },
  "language_info": {
   "codemirror_mode": {
    "name": "ipython",
    "version": 3
   },
   "file_extension": ".py",
   "mimetype": "text/x-python",
   "name": "python",
   "nbconvert_exporter": "python",
   "pygments_lexer": "ipython3",
   "version": "3.10.13"
  }
 },
 "nbformat": 4,
 "nbformat_minor": 5
}

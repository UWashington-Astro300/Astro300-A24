{
 "cells": [
  {
   "cell_type": "markdown",
   "metadata": {},
   "source": [
    "# HQ GAIA Data - Wow! Signal Source?"
   ]
  },
  {
   "cell_type": "markdown",
   "metadata": {},
   "source": [
    "<img src=\"https://uwashington-astro300.github.io/A300_images/WowSignalSource.png\" width=\"450\"/>"
   ]
  },
  {
   "cell_type": "code",
   "execution_count": null,
   "metadata": {},
   "outputs": [],
   "source": [
    "import numpy as np\n",
    "from astropy.table import QTable\n",
    "from astroquery.gaia import Gaia\n",
    "from astroquery.simbad import Simbad"
   ]
  },
  {
   "cell_type": "markdown",
   "metadata": {},
   "source": [
    "#### We want to find high quality Gaia data for solar-type stars near the Wow! signal coordinates.\n",
    "\n",
    "Create and run a Gaia query to find ALL of the objects within 1 degree of the Wow! signal coordinates that are brighter than 16th magnutude, have a parallax greater than 3.0, have a parallax SNR > 10, and have the bp-rp colors of a **G-type star**.\n",
    "\n",
    "The Wow! signal originated at the coordinates: `ra` = 291.79 deg, `dec` = -26.95 deg\n",
    "\n",
    "You will want the columns: `source_id, ra, dec, phot_g_mean_mag, bp_rp, parallax, parallax_over_error`\n",
    "\n",
    "<img src=\"https://uwashington-astro300.github.io/A300_images/Gaia_CMD_BW.png\" width=\"400\"/>"
   ]
  },
  {
   "cell_type": "code",
   "execution_count": null,
   "metadata": {},
   "outputs": [],
   "source": []
  },
  {
   "cell_type": "code",
   "execution_count": null,
   "metadata": {},
   "outputs": [],
   "source": []
  },
  {
   "cell_type": "code",
   "execution_count": null,
   "metadata": {},
   "outputs": [],
   "source": []
  },
  {
   "cell_type": "code",
   "execution_count": null,
   "metadata": {},
   "outputs": [],
   "source": []
  },
  {
   "cell_type": "code",
   "execution_count": null,
   "metadata": {},
   "outputs": [],
   "source": []
  },
  {
   "cell_type": "markdown",
   "metadata": {},
   "source": [
    "### Use `parallax` and `phot_g_mean_mag` to get the **distance** and the **absolute magnitude** of the objects.\n",
    "\n",
    "- Add them as columns to the data table"
   ]
  },
  {
   "cell_type": "code",
   "execution_count": null,
   "metadata": {},
   "outputs": [],
   "source": []
  },
  {
   "cell_type": "code",
   "execution_count": null,
   "metadata": {},
   "outputs": [],
   "source": []
  },
  {
   "cell_type": "code",
   "execution_count": null,
   "metadata": {},
   "outputs": [],
   "source": []
  },
  {
   "cell_type": "code",
   "execution_count": null,
   "metadata": {},
   "outputs": [],
   "source": []
  },
  {
   "cell_type": "markdown",
   "metadata": {
    "collapsed": false,
    "jupyter": {
     "outputs_hidden": false
    }
   },
   "source": [
    "### Make a subset of your data that contains all of the objects that have:\n",
    "\n",
    "- An absolute magnitude = 4.67 +/- 0.3\n",
    "- bp-rp = 0.82 +/- 0.2\n",
    "\n",
    "#### These are Solar-type star"
   ]
  },
  {
   "cell_type": "code",
   "execution_count": null,
   "metadata": {},
   "outputs": [],
   "source": []
  },
  {
   "cell_type": "code",
   "execution_count": null,
   "metadata": {},
   "outputs": [],
   "source": []
  },
  {
   "cell_type": "markdown",
   "metadata": {},
   "source": [
    "#### Query the Simbad database to find the catalog number of the nearest Solar-type star in the [Henry Draper](https://en.wikipedia.org/wiki/Henry_Draper_Catalogue) star catalog. \n",
    "\n",
    "- The catalog number will start with a HD.\n",
    "- Modify the markdown cell below with the correct number. "
   ]
  },
  {
   "cell_type": "code",
   "execution_count": null,
   "metadata": {},
   "outputs": [],
   "source": []
  },
  {
   "cell_type": "markdown",
   "metadata": {},
   "source": [
    "## The nearest Solar-type star in the Wow! signal field is HD XXXXXX"
   ]
  },
  {
   "cell_type": "markdown",
   "metadata": {},
   "source": [
    "---\n",
    "\n",
    "### Due Mon Oct 14 - 1 pm\n",
    "- Rerun your notebook: `Kernel -> Restart Kernal and Run All Cells`\n",
    "- `Save notebook as .html: File -> Download as -> HTML`\n",
    "- `Upload .html to Canvas`"
   ]
  }
 ],
 "metadata": {
  "anaconda-cloud": {},
  "kernelspec": {
   "display_name": "Python 3 (ipykernel)",
   "language": "python",
   "name": "python3"
  },
  "language_info": {
   "codemirror_mode": {
    "name": "ipython",
    "version": 3
   },
   "file_extension": ".py",
   "mimetype": "text/x-python",
   "name": "python",
   "nbconvert_exporter": "python",
   "pygments_lexer": "ipython3",
   "version": "3.10.13"
  }
 },
 "nbformat": 4,
 "nbformat_minor": 4
}

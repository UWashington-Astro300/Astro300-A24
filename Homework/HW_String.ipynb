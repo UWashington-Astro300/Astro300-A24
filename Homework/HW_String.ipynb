{
 "cells": [
  {
   "cell_type": "markdown",
   "metadata": {},
   "source": [
    "# Strings Homework"
   ]
  },
  {
   "cell_type": "markdown",
   "metadata": {},
   "source": [
    "### Copy all of the cells below `Edit -> Copy Cell` and paste them `Edit -> Paste Cell Below` to the end of your `HW_HQGaiaData` homework."
   ]
  },
  {
   "cell_type": "markdown",
   "metadata": {},
   "source": [
    "----\n",
    "### Copy this and all following cells\n",
    "\n",
    "- Use `f-string` formatting to make your output look nice\n",
    "- All floats should be printed to one decimal place\n",
    "- Replace the CAP values with data. **DO NOT HARDCODE!!** - use variables.\n",
    "  - Don't do this: `f'The parallax is 100'`\n",
    "  - Don't do this: `f'The parallax is {my_parallax}'` where my_parallax = 100\n",
    "  - DO THIS: `f'The parallax is {my_table['parallax'][0]}'`"
   ]
  },
  {
   "cell_type": "markdown",
   "metadata": {},
   "source": [
    "## Print the following sentence for the nearest solar-type star:\n",
    "\n",
    "`The object SOURCE_ID is the nearest solar-type star in the Wow! field with a parallax of PARALLAX mas, a distance of DISTANCE pc, and an apparent magnitude of PHOT_G_MEAN_MAG mag`"
   ]
  },
  {
   "cell_type": "code",
   "execution_count": null,
   "metadata": {},
   "outputs": [],
   "source": []
  },
  {
   "cell_type": "code",
   "execution_count": null,
   "metadata": {},
   "outputs": [],
   "source": []
  },
  {
   "cell_type": "markdown",
   "metadata": {},
   "source": [
    "## And a summary statement:\n",
    "\n",
    "`There are NUMBER solar-type stars in the Wow! field. The stars have an average distance of AVE_DISTANCE +/- STD_DISTANCE pc, and a range in apparent G magnitudes from G_MAX_MAG to G_MIN_MAG. The parallax data have a signal-to-noise ratio of AVE_SNR +/- STD_SNR.`"
   ]
  },
  {
   "cell_type": "code",
   "execution_count": null,
   "metadata": {},
   "outputs": [],
   "source": []
  },
  {
   "cell_type": "code",
   "execution_count": null,
   "metadata": {},
   "outputs": [],
   "source": []
  },
  {
   "cell_type": "markdown",
   "metadata": {},
   "source": [
    "### Use a `for-loop` to print out the follow line for each row in your solar-type star table.\n",
    "\n",
    "- `The Star SOURCE_ID as a color index within SOLAR_INDEX magnitudes of the Sun`\n",
    "- Where `SOLAR_INDEX` = |Solar BP-RP color - Star BP-RP color|  <- absolute value\n",
    "- Print `SOLAR_INDEX` to 2 decimals"
   ]
  },
  {
   "cell_type": "code",
   "execution_count": null,
   "metadata": {},
   "outputs": [],
   "source": []
  },
  {
   "cell_type": "code",
   "execution_count": null,
   "metadata": {},
   "outputs": [],
   "source": []
  },
  {
   "cell_type": "markdown",
   "metadata": {},
   "source": [
    "---\n",
    "\n",
    "### Due Wed Oct 16 - 1pm\n",
    "- Rerun your notebook: `Kernel -> Restart Kernal and Run All Cells`\n",
    "- `Save notebook as .html: File -> Download as -> HTML`\n",
    "- `Upload .html to Canvas -> Strings assignment`"
   ]
  }
 ],
 "metadata": {
  "kernelspec": {
   "display_name": "Python 3 (ipykernel)",
   "language": "python",
   "name": "python3"
  },
  "language_info": {
   "codemirror_mode": {
    "name": "ipython",
    "version": 3
   },
   "file_extension": ".py",
   "mimetype": "text/x-python",
   "name": "python",
   "nbconvert_exporter": "python",
   "pygments_lexer": "ipython3",
   "version": "3.10.13"
  }
 },
 "nbformat": 4,
 "nbformat_minor": 4
}

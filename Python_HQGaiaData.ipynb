{
 "cells": [
  {
   "cell_type": "markdown",
   "id": "600a35e5-140a-46ef-9864-aafb9c065646",
   "metadata": {},
   "source": [
    "# High Quality Gaia Data"
   ]
  },
  {
   "cell_type": "code",
   "execution_count": null,
   "id": "5aef951c-0f1c-46cf-874a-b9cc59cb8113",
   "metadata": {},
   "outputs": [],
   "source": [
    "import numpy as np\n",
    "from astropy.table import QTable\n",
    "from astroquery.gaia import Gaia"
   ]
  },
  {
   "cell_type": "markdown",
   "id": "22a6a00c-c54e-43a6-a612-66b48d310b21",
   "metadata": {},
   "source": [
    "#### In your `function` homework, I had you read in a set of the 50 brightest stars in the Gaia catalog. That dataset was created by the following query"
   ]
  },
  {
   "cell_type": "code",
   "execution_count": null,
   "id": "bc074e43-89cc-4a4f-b964-3501a64f85fe",
   "metadata": {
    "tags": []
   },
   "outputs": [],
   "source": [
    "my_query = \"\"\"\n",
    "SELECT TOP 50\n",
    "source_id, parallax, phot_g_mean_mag\n",
    "FROM gaiadr3.gaia_source_lite\n",
    "WHERE phot_g_mean_mag < 3\n",
    "AND parallax > 0.1\n",
    "ORDER BY phot_g_mean_mag\n",
    "\"\"\""
   ]
  },
  {
   "cell_type": "code",
   "execution_count": null,
   "id": "28452b4f-abbe-4f12-877f-01d679d4f717",
   "metadata": {
    "tags": []
   },
   "outputs": [],
   "source": [
    "print(my_query)"
   ]
  },
  {
   "cell_type": "code",
   "execution_count": null,
   "id": "eb2bca2a-be29-433c-adea-9277ff9e35a9",
   "metadata": {
    "tags": []
   },
   "outputs": [],
   "source": [
    "my_job_query = Gaia.launch_job(my_query)"
   ]
  },
  {
   "cell_type": "code",
   "execution_count": null,
   "id": "953f5884-ad31-4cc6-b6f6-431eeaf1ec36",
   "metadata": {
    "tags": []
   },
   "outputs": [],
   "source": [
    "print(my_job_query)"
   ]
  },
  {
   "cell_type": "code",
   "execution_count": null,
   "id": "f40c0464-3140-4d65-afec-22eb3c73314f",
   "metadata": {
    "tags": []
   },
   "outputs": [],
   "source": [
    "target_table = my_job_query.get_results()"
   ]
  },
  {
   "cell_type": "code",
   "execution_count": null,
   "id": "b6281305-c6a0-4e59-b9ea-7aa9e968cb71",
   "metadata": {
    "tags": []
   },
   "outputs": [],
   "source": [
    "target_table[0:5]"
   ]
  },
  {
   "cell_type": "markdown",
   "id": "c8777953-e05e-4d80-838e-3e0627cd7cab",
   "metadata": {},
   "source": [
    "### Let's find the distance and Absolue magnitues for the objects"
   ]
  },
  {
   "cell_type": "code",
   "execution_count": null,
   "id": "ca3d65e6-ed28-493a-a467-d86a3e2ba32c",
   "metadata": {},
   "outputs": [],
   "source": [
    "def find_distance(my_parallax):\n",
    "    result = 1 / (my_parallax / 1000)\n",
    "    return result\n",
    "    \n",
    "def find_absmag(my_appmag, my_distance):\n",
    "    result = my_appmag - (5 * np.log10(my_distance / 10))\n",
    "    return result"
   ]
  },
  {
   "cell_type": "code",
   "execution_count": null,
   "id": "2bbc88b2-2df0-4df9-aa89-52effe2fc0b4",
   "metadata": {},
   "outputs": [],
   "source": [
    "target_table['Distance'] = find_distance(\n",
    "                               my_parallax = target_table['parallax']\n",
    "                           )"
   ]
  },
  {
   "cell_type": "code",
   "execution_count": null,
   "id": "9c418356-6f72-4a2c-9f96-2761c092d905",
   "metadata": {},
   "outputs": [],
   "source": [
    "target_table['AbsMag'] = find_absmag(\n",
    "                               my_appmag = target_table['phot_g_mean_mag'],\n",
    "                               my_distance = target_table['Distance']\n",
    "                         )"
   ]
  },
  {
   "cell_type": "code",
   "execution_count": null,
   "id": "d6d87957-440c-476a-aedd-32c2ca9053de",
   "metadata": {},
   "outputs": [],
   "source": [
    "target_table[0:5]"
   ]
  },
  {
   "cell_type": "markdown",
   "id": "ce237537-4dba-4371-ba5c-88f568fd2fe2",
   "metadata": {},
   "source": [
    "### Brightest Objest"
   ]
  },
  {
   "cell_type": "code",
   "execution_count": null,
   "id": "78c74480-89e4-4887-85cb-688bc7f16b2e",
   "metadata": {},
   "outputs": [],
   "source": [
    "target_table.sort('AbsMag')"
   ]
  },
  {
   "cell_type": "code",
   "execution_count": null,
   "id": "62b64df7-0bca-441f-9915-c211e45c499d",
   "metadata": {},
   "outputs": [],
   "source": [
    "target_table[0]"
   ]
  },
  {
   "cell_type": "markdown",
   "id": "3bee2aa6-7608-4b89-83f2-5601bec976b9",
   "metadata": {},
   "source": [
    "### This is a crazy value. The most luminous stars in the universe have an absolute magnitude of around -10."
   ]
  },
  {
   "cell_type": "markdown",
   "id": "8b3026e2-2d6b-498f-a48a-3f49964f395d",
   "metadata": {},
   "source": [
    "---\n",
    "\n",
    "## What is wrong with the data?\n",
    "\n",
    "<img src=\"https://uwashington-astro300.github.io/A300_images/data_error.png\" width=\"600\"/>\n",
    "\n",
    "We have only used a small subset of the data available in the `gaia_source_lite` database. \n",
    "\n",
    "Full column list: [gaia_source_lite data columns](https://gaia.aip.de/metadata/gaiadr3/gaia_source_lite/)\n",
    "\n",
    "You can see that there are a number of columns with names like `VALUE_error` and `VALUE_over_error`. These data will allow us to \n",
    "evaluate the quality of the measured data.\n",
    "\n",
    "Let's look at the quality of the `parallax` data. \n",
    "\n",
    "The uncertainty of parallax measurements can come from many sources. Dim stars are harder to measure than bright stars. It is difficult to measure positions in crowded fields, like near the galactic plane. There are also systematic errors associated with the equipment and the data reduction pipeline. All of these contribute to the `standard error` of the `parallax` measurement.\n",
    "\n",
    "The `parallax` error data are in the columns:\n",
    "\n",
    "```\n",
    "parallax_error          Standard error of parallax\n",
    "parallax_over_error     Parallax divided by its standard error\n",
    "```\n",
    "The `parallax_over_error` column is particularly useful to get high quality parallax data. \n",
    "\n",
    "- It is very common to judge the quality of data by comparing the data (signal) to the error in the data (noise). \n",
    "- The ratio of the data / error is often called the signal-to-noise ratio (SNR). \n",
    "- The SNR for data is often referred to by a lower case sigma (σ)\n",
    "\n",
    "The `parallax_over_error` column is the SNR for the parallax data.\n",
    "\n",
    "What is considered a good SNR really depends on the particular situation. \n",
    "\n",
    "- As a very general rule of thumb is that a SNR of > 10 (10σ) is considered high quality\n",
    "- A SNR of 3 (3σ) is considered \"barely detected\".\n",
    "\n",
    "In stellar spectroscopy\n",
    "\n",
    "- 20σ is considered barely adequate\n",
    "- High quality data is > 100σ"
   ]
  },
  {
   "cell_type": "markdown",
   "id": "a4b26300-24af-4250-9275-320fce80b288",
   "metadata": {},
   "source": [
    "---\n",
    "## Back to our Strange Object\n",
    "\n",
    "Our object with `source_id` = 2202630001603369856 has an absolute magnitude of -12.17.\n",
    "\n",
    "What is going on?"
   ]
  },
  {
   "cell_type": "code",
   "execution_count": null,
   "id": "474a478f-38b1-421e-91e4-4db7ed687fb9",
   "metadata": {
    "tags": []
   },
   "outputs": [],
   "source": [
    "query_strange = \"\"\"\n",
    "SELECT TOP 1\n",
    "source_id, parallax, parallax_error, parallax_over_error\n",
    "FROM gaiadr3.gaia_source_lite\n",
    "WHERE source_id = 2202630001603369856\n",
    "\"\"\""
   ]
  },
  {
   "cell_type": "code",
   "execution_count": null,
   "id": "e13be34a-6d9a-462e-ac94-e0588e998259",
   "metadata": {
    "tags": []
   },
   "outputs": [],
   "source": [
    "my_job_query = Gaia.launch_job(query_strange)"
   ]
  },
  {
   "cell_type": "code",
   "execution_count": null,
   "id": "5e3d7dd7-711c-4bb0-9edd-be7b3894a1c2",
   "metadata": {
    "tags": []
   },
   "outputs": [],
   "source": [
    "my_job_query.get_results()"
   ]
  },
  {
   "cell_type": "markdown",
   "id": "b07b3de5-15fb-4e22-96d5-39fc5d403564",
   "metadata": {},
   "source": [
    "#### That is not good! \n",
    "\n",
    "#### $\\sigma$ = 0.45!\n",
    "\n",
    "#### The error in the parallax is about 2x the parallax value. "
   ]
  },
  {
   "cell_type": "markdown",
   "id": "d717a634-3759-4f58-a12e-0fe497522160",
   "metadata": {},
   "source": [
    "---\n",
    "\n",
    "### What type of object are we looking at that would lead to such an error?\n",
    "\n",
    "We can use the information columns in the Gaia database to see if the object is a quasar, galaxy, or a multiple star.\n",
    "\n",
    "```\n",
    "in_qso_candidates    Flag indicating the availability of additional information in the QsoCandidates table\n",
    "in_galaxy_candidates Flag indicating the availability of additional information in the GalaxyCandidates table\n",
    "non_single_star      Flag indicating the availability of additional information in the various Non-Single Star tables\n",
    "```"
   ]
  },
  {
   "cell_type": "code",
   "execution_count": null,
   "id": "3fbd09b8-4415-409a-a773-2fafa87114c4",
   "metadata": {},
   "outputs": [],
   "source": [
    "query_strange_two = \"\"\"\n",
    "SELECT TOP 1\n",
    "source_id, in_qso_candidates, in_galaxy_candidates, non_single_star\n",
    "FROM gaiadr3.gaia_source_lite\n",
    "WHERE source_id = 2202630001603369856\n",
    "\"\"\""
   ]
  },
  {
   "cell_type": "code",
   "execution_count": null,
   "id": "634ad33f-2d4a-406c-9922-6659b1c7f0b2",
   "metadata": {},
   "outputs": [],
   "source": [
    "my_job_query = Gaia.launch_job(query_strange_two)"
   ]
  },
  {
   "cell_type": "code",
   "execution_count": null,
   "id": "56bf442e-3d55-4059-90e5-f47207dea0c2",
   "metadata": {},
   "outputs": [],
   "source": [
    "my_job_query.get_results()"
   ]
  },
  {
   "cell_type": "markdown",
   "id": "896f2d66-6b85-4d76-b824-2333cc30d6f7",
   "metadata": {},
   "source": [
    "### Seems that it is a single star..."
   ]
  },
  {
   "cell_type": "markdown",
   "id": "bac063ad-7181-49b3-96f8-5da7874a57cb",
   "metadata": {},
   "source": [
    "----\n",
    "\n",
    "# SIMBAD - Name resolver\n",
    "\n",
    "The purpose of Simbad is to provide information on astronomical objects of interest which have been studied in scientific articles. It provides the bibliography, as well as available basic information such as the nature of the object. \n",
    "\n",
    "One of Simbad's most useful features is its abilty to resolve the multitude names of objects given in the literature."
   ]
  },
  {
   "cell_type": "code",
   "execution_count": null,
   "id": "cf070728-20c5-4336-807f-70e15c00ad64",
   "metadata": {
    "tags": []
   },
   "outputs": [],
   "source": [
    "from astroquery.simbad import Simbad"
   ]
  },
  {
   "cell_type": "code",
   "execution_count": null,
   "id": "eb61b466-a2aa-4afe-a807-d4aa98b89504",
   "metadata": {
    "tags": []
   },
   "outputs": [],
   "source": [
    "Simbad.query_objectids(\"Gaia DR3 2202630001603369856\")"
   ]
  },
  {
   "cell_type": "code",
   "execution_count": null,
   "id": "43db0b40-1c67-4298-bdf0-e8aa7ad454e5",
   "metadata": {
    "scrolled": true,
    "tags": []
   },
   "outputs": [],
   "source": [
    "Simbad.query_objectids(\"Gaia DR3 2202630001603369856\").show_in_notebook()"
   ]
  },
  {
   "cell_type": "markdown",
   "id": "047b9a98-24e2-484b-8011-ae7bbfb22143",
   "metadata": {
    "tags": []
   },
   "source": [
    "### This is a very well studied bright star! \n",
    "\n",
    "<img src=\"https://uwashington-astro300.github.io/A300_images/MuCeph.png\" width=\"600\"/>\n",
    "\n",
    "\n",
    "[Mu Cephei](https://en.wikipedia.org/wiki/Mu_Cephei) is visually nearly 100,000 times brighter than the Sun, with an absolute visual magnitude of −7.6. It is also one of the largest known stars with a radius around or over 1,000 times that of the sun.\n",
    "\n",
    "It is also located in a region rich in gas and dust.\n",
    "\n",
    "This is exactly the type of object Gaia is NOT designed to study."
   ]
  },
  {
   "cell_type": "code",
   "execution_count": null,
   "id": "63217790-05ec-48cb-ad05-23b7e0e202b3",
   "metadata": {},
   "outputs": [],
   "source": []
  }
 ],
 "metadata": {
  "kernelspec": {
   "display_name": "Python 3 (ipykernel)",
   "language": "python",
   "name": "python3"
  },
  "language_info": {
   "codemirror_mode": {
    "name": "ipython",
    "version": 3
   },
   "file_extension": ".py",
   "mimetype": "text/x-python",
   "name": "python",
   "nbconvert_exporter": "python",
   "pygments_lexer": "ipython3",
   "version": "3.10.13"
  }
 },
 "nbformat": 4,
 "nbformat_minor": 5
}
